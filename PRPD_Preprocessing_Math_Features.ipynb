{
 "cells": [
  {
   "cell_type": "code",
   "execution_count": 1,
   "metadata": {
    "id": "VZ0_UBmZ5q87"
   },
   "outputs": [],
   "source": [
    "import csv\n",
    "from scipy.stats import skew\n",
    "import numpy as np\n",
    "from numpy import mean\n",
    "from numpy import std\n",
    "from numpy import dstack\n",
    "import matplotlib.pyplot as plt\n",
    "import matplotlib"
   ]
  },
  {
   "cell_type": "code",
   "execution_count": 2,
   "metadata": {
    "colab": {
     "base_uri": "https://localhost:8080/"
    },
    "id": "GlIUajqT6Cer",
    "outputId": "dc5ff9f4-1fc1-4324-8e6b-89f70f936208"
   },
   "outputs": [
    {
     "data": {
      "text/plain": [
       "(571, 2, 50000)"
      ]
     },
     "execution_count": 2,
     "metadata": {},
     "output_type": "execute_result"
    }
   ],
   "source": [
    "X = np.load('X.npy')\n",
    "y = np.load('y.npy')\n",
    "X = X.reshape(571,2,50000)\n",
    "X.shape"
   ]
  },
  {
   "cell_type": "code",
   "execution_count": 3,
   "metadata": {
    "id": "KJwqbsDzHj-e"
   },
   "outputs": [],
   "source": [
    "phase = X[:,0,:]\n",
    "charge = X[:,1,:]"
   ]
  },
  {
   "cell_type": "code",
   "execution_count": 4,
   "metadata": {
    "colab": {
     "base_uri": "https://localhost:8080/"
    },
    "id": "FtSFe5OTI602",
    "outputId": "6301fb8c-1149-47f2-b2c4-07e3f751a94a"
   },
   "outputs": [
    {
     "data": {
      "text/plain": [
       "(571, 50000)"
      ]
     },
     "execution_count": 4,
     "metadata": {},
     "output_type": "execute_result"
    }
   ],
   "source": [
    "phase.shape"
   ]
  },
  {
   "cell_type": "code",
   "execution_count": 9,
   "metadata": {
    "colab": {
     "base_uri": "https://localhost:8080/",
     "height": 598
    },
    "id": "l8YEUnMw7OLm",
    "outputId": "15012b61-8ca0-4f7e-b7cd-d0d4bf153c45"
   },
   "outputs": [
    {
     "data": {
      "image/png": "[encoded data removed]",
      "text/plain": [
       "<Figure size 1000x600 with 1 Axes>"
      ]
     },
     "metadata": {},
     "output_type": "display_data"
    }
   ],
   "source": [
    "plt.figure(figsize=(10, 6))\n",
    "plt.plot(phase[150], charge[150], 'o', markersize=2)\n",
    "plt.title(\"PRPD Pattern\")\n",
    "# plt.grid(True)\n",
    "# plt.legend()\n",
    "plt.xlabel('Phase')\n",
    "plt.ylabel('Charge - pC')\n",
    "plt.savefig('figure.png', format='png')\n",
    "plt.show()"
   ]
  },
  {
   "cell_type": "code",
   "execution_count": 9,
   "metadata": {
    "id": "eI2V4JX47TJM"
   },
   "outputs": [],
   "source": [
    "from scipy.stats import skew\n",
    "from scipy.stats import kurtosis\n",
    "from scipy.stats import entropy\n",
    "import openpyxl\n",
    "\n",
    "dataset = []\n",
    "\n",
    "myworkbook=openpyxl.Workbook()\n",
    "\n",
    "worksheet = myworkbook.create_sheet(title=\"PD\")\n",
    "\n",
    "column = ['n_charge', 'skewness', 'kurtosis', 'mean', 'variance', 'entropy', 'Class']\n",
    "\n",
    "for i in range(len(column)):\n",
    "  mycell= worksheet.cell(1, i+1, value = column[i])\n",
    "\n",
    "for i in range(len(X)):\n",
    "  current_charge = charge[i]\n",
    "  out = y[i]\n",
    "  current_charge = current_charge[current_charge > 0]\n",
    "  n_charge = len(current_charge)\n",
    "  skewness = skew(current_charge, axis=0, bias=True)\n",
    "  kurtos = kurtosis(current_charge, axis=0, bias=True)\n",
    "  mean = np.mean(current_charge, axis=0)\n",
    "  variance = np.var(current_charge, axis=0)\n",
    "  unique, counts = np.unique(current_charge, return_counts=True)\n",
    "  probabilities = counts / len(current_charge)\n",
    "  entropi = entropy(probabilities, base=2)\n",
    "  row = [n_charge, skewness, kurtos, mean, variance, entropi, out]\n",
    "  # print(row)\n",
    "  dataset.append(row)\n",
    "  for j in range(len(row)):\n",
    "    mycell= worksheet.cell(j+1, i+1, value = row[j])\n",
    "\n",
    "# myworkbook.save(\"dataset.xlsx\")\n",
    "dataset = np.array(dataset)"
   ]
  },
  {
   "cell_type": "code",
   "execution_count": 10,
   "metadata": {
    "id": "nNFmTRDjf_tp"
   },
   "outputs": [],
   "source": [
    "datasetT = dataset.T"
   ]
  },
  {
   "cell_type": "code",
   "execution_count": 11,
   "metadata": {
    "colab": {
     "base_uri": "https://localhost:8080/"
    },
    "id": "Sm4uZp1DhdX_",
    "outputId": "a4f538d1-b212-4c6d-ba0e-d69aad283d7b"
   },
   "outputs": [
    {
     "data": {
      "text/plain": [
       "(7, 571)"
      ]
     },
     "execution_count": 11,
     "metadata": {},
     "output_type": "execute_result"
    }
   ],
   "source": [
    "datasetT.shape"
   ]
  },
  {
   "cell_type": "code",
   "execution_count": 12,
   "metadata": {
    "colab": {
     "base_uri": "https://localhost:8080/"
    },
    "id": "LfRFx08bhlna",
    "outputId": "10a3f107-1ddb-4311-a9e3-5916236896ff"
   },
   "outputs": [
    {
     "name": "stdout",
     "output_type": "stream",
     "text": [
      "[[ 9.20306711e-01  9.34306884e-01  9.52614801e-01 ...  2.08645645e-01\n",
      "   1.98565521e-01  1.90940812e-01]\n",
      " [ 5.47143262e-01  5.01204516e-01  4.12524290e-01 ...  1.19514081e+01\n",
      "   1.11182328e+01  1.08145999e+01]\n",
      " [ 3.18132255e-02 -1.47834770e-01 -3.71439025e-02 ...  1.56559490e+02\n",
      "   1.31047810e+02  1.23513698e+02]\n",
      " ...\n",
      " [ 1.01439975e-01  9.86886756e-02  7.31041342e-02 ...  4.48554143e+02\n",
      "   5.37103942e+02  5.15339394e+02]\n",
      " [ 9.75154406e+00  9.77313921e+00  9.80089990e+00 ...  9.31313425e+00\n",
      "   9.33505490e+00  9.34376564e+00]\n",
      " [ 0.00000000e+00  0.00000000e+00  0.00000000e+00 ...  3.00000000e+00\n",
      "   3.00000000e+00  3.00000000e+00]]\n"
     ]
    }
   ],
   "source": [
    "first_column = datasetT[0]\n",
    "normalized_column = (first_column - np.min(first_column)) / (np.max(first_column) - np.min(first_column))\n",
    "datasetT[0] = normalized_column\n",
    "print(datasetT)"
   ]
  },
  {
   "cell_type": "code",
   "execution_count": 16,
   "metadata": {
    "colab": {
     "base_uri": "https://localhost:8080/"
    },
    "id": "2o1a-0dMiZrw",
    "outputId": "a8adacc5-c0c6-4dc1-8ce1-9b6b7a8f4bdb"
   },
   "outputs": [
    {
     "name": "stdout",
     "output_type": "stream",
     "text": [
      "Data with headers written to data_PD.xlsx\n"
     ]
    }
   ],
   "source": [
    "import pandas as pd\n",
    "import numpy as np\n",
    "column = ['n_charge', 'skewness', 'kurtosis', 'mean', 'variance', 'entropy', 'Class']\n",
    "df = pd.DataFrame(datasetT.T, columns=column)\n",
    "df.iloc[1:] = df.iloc[1:].sample(frac=1).reset_index(drop=True)\n",
    "output_file = \"data_PD.xlsx\"\n",
    "df.to_excel(output_file, index=False, header=True)  # Write with headers\n",
    "\n",
    "print(f\"Data with headers written to {output_file}\")"
   ]
  },
  {
   "cell_type": "code",
   "execution_count": 14,
   "metadata": {
    "colab": {
     "base_uri": "https://localhost:8080/"
    },
    "id": "ZUoxjCjpjtHp",
    "outputId": "3cc37a8a-b080-46b2-f6f4-f4e69e46067a"
   },
   "outputs": [
    {
     "name": "stdout",
     "output_type": "stream",
     "text": [
      "   n_charge  skewness  kurtosis      mean  variance   entropy  Class\n",
      "0  0.920307  0.547143  0.031813  0.527730  0.101440  9.751544      0\n",
      "1  0.934307  0.501205 -0.147835  0.528931  0.098689  9.773139      0\n",
      "2  0.952615  0.412524 -0.037144  0.501788  0.073104  9.800900      0\n",
      "3  0.911691  0.577838  0.100470  0.500457  0.093948  9.738092      0\n",
      "4  0.956923  0.414923 -0.283548  0.485221  0.068381  9.807355      0\n"
     ]
    }
   ],
   "source": [
    "import pandas as pd\n",
    "file_path = 'dst_PD.xlsx'\n",
    "data = pd.read_excel(file_path)\n",
    "print(data.head())"
   ]
  },
  {
   "cell_type": "code",
   "execution_count": null,
   "metadata": {
    "id": "F12fTSq5j0-P"
   },
   "outputs": [],
   "source": []
  }
 ],
 "metadata": {
  "colab": {
   "provenance": []
  },
  "kernelspec": {
   "display_name": "Python 3 (ipykernel)",
   "language": "python",
   "name": "python3"
  },
  "language_info": {
   "codemirror_mode": {
    "name": "ipython",
    "version": 3
   },
   "file_extension": ".py",
   "mimetype": "text/x-python",
   "name": "python",
   "nbconvert_exporter": "python",
   "pygments_lexer": "ipython3",
   "version": "3.11.10"
  }
 },
 "nbformat": 4,
 "nbformat_minor": 4
}
